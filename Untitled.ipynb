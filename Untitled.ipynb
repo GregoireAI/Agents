{
 "cells": [
  {
   "cell_type": "code",
   "execution_count": 1,
   "id": "3a852e85-e7b8-4a5f-9898-4653f1ad079b",
   "metadata": {},
   "outputs": [
    {
     "data": {
      "application/vnd.jupyter.widget-view+json": {
       "model_id": "8f19aa06de294a7486e3e10be68d9697",
       "version_major": 2,
       "version_minor": 0
      },
      "text/plain": [
       "interactive(children=(IntSlider(value=100, description='Num Agents:', max=200, min=10, step=10), IntSlider(val…"
      ]
     },
     "execution_count": 1,
     "metadata": {},
     "output_type": "execute_result"
    }
   ],
   "source": [
    "# Import necessary libraries\n",
    "import matplotlib.pyplot as plt\n",
    "import numpy as np\n",
    "import random\n",
    "import ipywidgets as widgets\n",
    "from IPython.display import display\n",
    "\n",
    "# Define the simulation function\n",
    "def el_farol_simulation(num_agents, num_weeks, threshold, num_hypotheses, learning_rate):\n",
    "    # Initialize agents\n",
    "    agents = [{'hypotheses': [random.randint(40, 80) for _ in range(num_hypotheses)],\n",
    "               'last_decision': False,\n",
    "               'success_history': [0] * num_hypotheses} for _ in range(num_agents)]\n",
    "\n",
    "    def update_hypotheses(agent, attendance):\n",
    "        success = (agent['last_decision'] and attendance < threshold) or (not agent['last_decision'] and attendance >= threshold)\n",
    "        for i, hypothesis in enumerate(agent['hypotheses']):\n",
    "            if i == agent['chosen_hypothesis']:\n",
    "                agent['success_history'][i] += 1 if success else -1\n",
    "                # Apply learning rate for adjustments\n",
    "                adjustment = random.randint(-1, 1) * learning_rate\n",
    "                agent['hypotheses'][i] += adjustment\n",
    "            else:\n",
    "                # Apply learning rate for adjustments to other hypotheses\n",
    "                adjustment = random.randint(-5, 5) * learning_rate\n",
    "                agent['hypotheses'][i] += adjustment\n",
    "\n",
    "    def simulate_week():\n",
    "        attendance = 0\n",
    "        for agent in agents:\n",
    "            agent['chosen_hypothesis'] = np.argmax(agent['success_history'])\n",
    "            decision = agent['hypotheses'][agent['chosen_hypothesis']] < threshold\n",
    "            agent['last_decision'] = decision\n",
    "            attendance += decision\n",
    "        for agent in agents:\n",
    "            update_hypotheses(agent, attendance)\n",
    "        return attendance\n",
    "\n",
    "    # Run simulation\n",
    "    attendance_history = []\n",
    "    for week in range(num_weeks):\n",
    "        attendance = simulate_week()\n",
    "        attendance_history.append(attendance)\n",
    "\n",
    "    # Visualization\n",
    "    plt.figure(figsize=(12, 6))\n",
    "    plt.plot(attendance_history, label='Weekly Attendance')\n",
    "    plt.axhline(y=threshold, color='r', linestyle='--', label='Crowding Threshold')\n",
    "    plt.title('El Farol Bar Problem with Learning Agents')\n",
    "    plt.xlabel('Week')\n",
    "    plt.ylabel('Attendance')\n",
    "    plt.legend()\n",
    "    plt.grid(True)\n",
    "    plt.show()\n",
    "\n",
    "# Create interactive widgets\n",
    "num_agents_slider = widgets.IntSlider(value=100, min=10, max=200, step=10, description='Num Agents:')\n",
    "num_weeks_slider = widgets.IntSlider(value=52, min=10, max=104, step=1, description='Num Weeks:')\n",
    "threshold_slider = widgets.IntSlider(value=60, min=10, max=100, step=5, description='Threshold:')\n",
    "num_hypotheses_slider = widgets.IntSlider(value=5, min=1, max=10, step=1, description='Num Hypotheses:')\n",
    "learning_rate_slider = widgets.FloatSlider(value=0.1, min=0.01, max=0.5, step=0.01, description='Learning Rate:')\n",
    "\n",
    "# Function to update the plot\n",
    "def update_plot(num_agents, num_weeks, threshold, num_hypotheses, learning_rate):\n",
    "    el_farol_simulation(num_agents, num_weeks, threshold, num_hypotheses, learning_rate)\n",
    "\n",
    "# Display the interactive widgets\n",
    "widgets.interactive(update_plot, num_agents=num_agents_slider, num_weeks=num_weeks_slider, \n",
    "                    threshold=threshold_slider, num_hypotheses=num_hypotheses_slider, \n",
    "                    learning_rate=learning_rate_slider)\n"
   ]
  },
  {
   "cell_type": "code",
   "execution_count": null,
   "id": "053298dc-051b-4366-a388-89f3abb0f43d",
   "metadata": {},
   "outputs": [],
   "source": []
  },
  {
   "cell_type": "code",
   "execution_count": null,
   "id": "29c4b6f3-e100-4122-b7bf-f4cc773d14be",
   "metadata": {},
   "outputs": [],
   "source": []
  }
 ],
 "metadata": {
  "kernelspec": {
   "display_name": "Python 3 (ipykernel)",
   "language": "python",
   "name": "python3"
  },
  "language_info": {
   "codemirror_mode": {
    "name": "ipython",
    "version": 3
   },
   "file_extension": ".py",
   "mimetype": "text/x-python",
   "name": "python",
   "nbconvert_exporter": "python",
   "pygments_lexer": "ipython3",
   "version": "3.8.2"
  }
 },
 "nbformat": 4,
 "nbformat_minor": 5
}
